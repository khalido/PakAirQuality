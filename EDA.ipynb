{
 "cells": [
  {
   "cell_type": "code",
   "execution_count": 19,
   "metadata": {},
   "outputs": [],
   "source": [
    "import os\n",
    "\n",
    "import requests\n",
    "import pandas as pd\n",
    "\n",
    "import matplotlib.pyplot as plt\n",
    "#import seaborn as sns\n",
    "%matplotlib inline"
   ]
  },
  {
   "cell_type": "markdown",
   "metadata": {},
   "source": [
    "# AirVisual\n",
    "\n",
    "Notes:\n",
    "\n",
    "- stations are updated only once an hour, so cache data\n",
    "- example city page: https://www.airvisual.com/pakistan/punjab/lahore\n",
    "\n",
    "first up, loading in the keys needed:"
   ]
  },
  {
   "cell_type": "code",
   "execution_count": 73,
   "metadata": {},
   "outputs": [],
   "source": [
    "AV_URL = \"http://api.airvisual.com/v2/\"\n",
    "AV_URL_CITY = \"https://api.airvisual.com/v2/city\"\n",
    "\n",
    "AV_KEY = os.getenv(key=\"AIRVISUAL\")\n",
    "\n",
    "if type(AV_KEY) != str:\n",
    "    print(\"Key not loaded\")"
   ]
  },
  {
   "cell_type": "markdown",
   "metadata": {},
   "source": [
    "### Now to make a list of all the cities in Pakistan"
   ]
  },
  {
   "cell_type": "code",
   "execution_count": 74,
   "metadata": {},
   "outputs": [
    {
     "data": {
      "text/plain": [
       "['Islamabad', 'Punjab', 'Sindh']"
      ]
     },
     "execution_count": 74,
     "metadata": {},
     "output_type": "execute_result"
    }
   ],
   "source": [
    "payload = {'country': 'Pakistan', \"key\": AV_KEY}\n",
    "\n",
    "r = requests.get(AV_URL+\"states\", params=payload)\n",
    "\n",
    "if r.ok:\n",
    "    data = r.json()[\"data\"]\n",
    "\n",
    "states = [x['state'] for x in data]\n",
    "states"
   ]
  },
  {
   "cell_type": "code",
   "execution_count": 75,
   "metadata": {},
   "outputs": [
    {
     "data": {
      "text/plain": [
       "{'Islamabad': 'Islamabad',\n",
       " 'Bahawalpur': 'Punjab',\n",
       " 'Faisalabad': 'Punjab',\n",
       " 'Lahore': 'Punjab',\n",
       " 'Rawalpindi': 'Punjab',\n",
       " 'Karachi': 'Sindh'}"
      ]
     },
     "execution_count": 75,
     "metadata": {},
     "output_type": "execute_result"
    }
   ],
   "source": [
    "cities = {}\n",
    "\n",
    "for state in states:\n",
    "    payload = {\"state\":state,'country': 'Pakistan', \"key\": AV_KEY}\n",
    "\n",
    "    r = requests.get(AV_URL+\"cities\", params=payload)\n",
    "    if r.ok:\n",
    "        for x in r.json()['data']:\n",
    "            cities[x[\"city\"]] = state\n",
    "\n",
    "cities"
   ]
  },
  {
   "cell_type": "markdown",
   "metadata": {},
   "source": [
    "### Now to test if we can get data back from AirVisual:"
   ]
  },
  {
   "cell_type": "code",
   "execution_count": 76,
   "metadata": {},
   "outputs": [
    {
     "data": {
      "text/plain": [
       "dict_keys(['city', 'state', 'country', 'location', 'forecasts', 'forecasts_daily', 'current', 'history'])"
      ]
     },
     "execution_count": 76,
     "metadata": {},
     "output_type": "execute_result"
    }
   ],
   "source": [
    "def get_city_data(city=\"Lahore\"):\n",
    "\n",
    "    payload = {'city': city, 'state': 'Punjab', \n",
    "               'country': 'Pakistan', \"key\": AV_KEY}\n",
    "\n",
    "    r = requests.get(AV_URL_CITY, params=payload)\n",
    "\n",
    "    if r.json()['status'] == \"success\":\n",
    "        data = r.json()[\"data\"]\n",
    "    else:\n",
    "        print(\"Implement backup option to grab earlier data\")\n",
    "        data = \"Fail\"\n",
    "    \n",
    "    return data\n",
    "\n",
    "data = get_city_data()\n",
    "data.keys()"
   ]
  },
  {
   "cell_type": "markdown",
   "metadata": {},
   "source": [
    "So we have the last 44 pollution events:"
   ]
  },
  {
   "cell_type": "code",
   "execution_count": 112,
   "metadata": {},
   "outputs": [
    {
     "name": "stdout",
     "output_type": "stream",
     "text": [
      "Pollution history length:  44\n"
     ]
    },
    {
     "data": {
      "text/plain": [
       "{'ts': '2018-11-20T02:00:00.000Z',\n",
       " 'aqius': 612,\n",
       " 'mainus': 'p2',\n",
       " 'aqicn': 720,\n",
       " 'maincn': 'p2',\n",
       " 'p2': {'conc': 670.5, 'aqius': 612, 'aqicn': 720}}"
      ]
     },
     "execution_count": 112,
     "metadata": {},
     "output_type": "execute_result"
    }
   ],
   "source": [
    "print(\"Pollution history length: \", len(data['history']['pollution']))\n",
    "\n",
    "data['history']['pollution'][0]"
   ]
  },
  {
   "cell_type": "code",
   "execution_count": 100,
   "metadata": {},
   "outputs": [
    {
     "name": "stdout",
     "output_type": "stream",
     "text": [
      "ts 2018-11-20T02:00:00.000Z\n",
      "aqius 612\n",
      "mainus p2\n",
      "aqicn 720\n",
      "maincn p2\n",
      "p2 {'conc': 670.5, 'aqius': 612, 'aqicn': 720}\n"
     ]
    },
    {
     "data": {
      "image/png": "[encoded data removed]",
      "text/plain": [
       "<Figure size 432x288 with 1 Axes>"
      ]
     },
     "metadata": {
      "needs_background": "light"
     },
     "output_type": "display_data"
    }
   ],
   "source": [
    "x, y = [], []\n",
    "\n",
    "for key, val in data['current']['pollution'].items():\n",
    "    print(key, val)\n",
    "    if type(val) == int or type(val) == float:\n",
    "        x.append(key)\n",
    "        y.append(val)\n",
    "\n",
    "plt.title(f\"Air Quality in {data['city']} on {data['current']['pollution']['ts']}\")\n",
    "plt.bar(x,y);"
   ]
  },
  {
   "cell_type": "code",
   "execution_count": 121,
   "metadata": {},
   "outputs": [
    {
     "data": {
      "text/plain": [
       "Text(0.5,1,'Air Quality over time')"
      ]
     },
     "execution_count": 121,
     "metadata": {},
     "output_type": "execute_result"
    },
    {
     "data": {
      "image/png": "[encoded data removed]",
      "text/plain": [
       "<Figure size 720x432 with 1 Axes>"
      ]
     },
     "metadata": {
      "needs_background": "light"
     },
     "output_type": "display_data"
    }
   ],
   "source": [
    "x, y = [], []\n",
    "\n",
    "for p in data['history']['pollution']:\n",
    "    x.append(p['ts'])\n",
    "    y.append(p['aqius'])\n",
    "\n",
    "fig, ax = plt.subplots(figsize=(10,6))\n",
    "ax.plot(x,y)\n",
    "ax.set_title(f\"Air Quality over time\")"
   ]
  },
  {
   "cell_type": "code",
   "execution_count": null,
   "metadata": {},
   "outputs": [],
   "source": []
  }
 ],
 "metadata": {
  "kernelspec": {
   "display_name": "Python [default]",
   "language": "python",
   "name": "python3"
  },
  "language_info": {
   "codemirror_mode": {
    "name": "ipython",
    "version": 3
   },
   "file_extension": ".py",
   "mimetype": "text/x-python",
   "name": "python",
   "nbconvert_exporter": "python",
   "pygments_lexer": "ipython3",
   "version": "3.7.0"
  }
 },
 "nbformat": 4,
 "nbformat_minor": 2
}
