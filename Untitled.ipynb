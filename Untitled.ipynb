{
 "cells": [
  {
   "cell_type": "code",
   "execution_count": 1,
   "metadata": {},
   "outputs": [],
   "source": [
    "import os"
   ]
  },
  {
   "cell_type": "markdown",
   "metadata": {},
   "source": [
    "Importing keys for facebook:"
   ]
  },
  {
   "cell_type": "code",
   "execution_count": 16,
   "metadata": {},
   "outputs": [
    {
     "name": "stdout",
     "output_type": "stream",
     "text": [
      "Keys not loaded\n"
     ]
    }
   ],
   "source": [
    "PAGE_ACCESS_TOKEN = os.getenv(\"PAGE_ACCESS_TOKEN\")\n",
    "FB_CLIENT_TOKEN = os.getenv(\"FB_CLIENT_TOKEN\")\n",
    "VERIFY_TOKEN = os.getenv(\"VERIFY_TOKEN\")\n",
    "\n",
    "if type(PAGE_ACCESS_TOKEN) != str and type(FB_CLIENT_TOKEN) != str \\\n",
    "and type(VERIFY_TOKEN) != str:\n",
    "    print(\"Keys not loaded\")"
   ]
  },
  {
   "cell_type": "code",
   "execution_count": null,
   "metadata": {},
   "outputs": [],
   "source": []
  }
 ],
 "metadata": {
  "kernelspec": {
   "display_name": "Python [default]",
   "language": "python",
   "name": "python3"
  },
  "language_info": {
   "codemirror_mode": {
    "name": "ipython",
    "version": 3
   },
   "file_extension": ".py",
   "mimetype": "text/x-python",
   "name": "python",
   "nbconvert_exporter": "python",
   "pygments_lexer": "ipython3",
   "version": "3.7.0"
  }
 },
 "nbformat": 4,
 "nbformat_minor": 2
}
