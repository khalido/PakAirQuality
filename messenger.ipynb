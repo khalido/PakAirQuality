{
 "cells": [
  {
   "cell_type": "code",
   "execution_count": 17,
   "metadata": {},
   "outputs": [],
   "source": [
    "import os\n",
    "import requests"
   ]
  },
  {
   "cell_type": "markdown",
   "metadata": {},
   "source": [
    "Importing keys for facebook:"
   ]
  },
  {
   "cell_type": "code",
   "execution_count": 18,
   "metadata": {},
   "outputs": [
    {
     "name": "stdout",
     "output_type": "stream",
     "text": [
      "Keys not loaded\n"
     ]
    }
   ],
   "source": [
    "PAGE_ACCESS_TOKEN = os.getenv(\"PAGE_ACCESS_TOKEN\")\n",
    "FB_CLIENT_TOKEN = os.getenv(\"FB_CLIENT_TOKEN\")\n",
    "VERIFY_TOKEN = os.getenv(\"VERIFY_TOKEN\")\n",
    "\n",
    "if type(PAGE_ACCESS_TOKEN) != str and type(FB_CLIENT_TOKEN) != str \\\n",
    "and type(VERIFY_TOKEN) != str:\n",
    "    print(\"Keys not loaded\")"
   ]
  },
  {
   "cell_type": "code",
   "execution_count": 27,
   "metadata": {},
   "outputs": [
    {
     "name": "stdout",
     "output_type": "stream",
     "text": [
      "<!DOCTYPE HTML PUBLIC \"-//W3C//DTD HTML 3.2 Final//EN\">\n",
      "<title>404 Not Found</title>\n",
      "<h1>Not Found</h1>\n",
      "<p>The requested URL was not found on the server.  If you entered the URL manually please check your spelling and try again.</p>\n",
      "\n"
     ]
    }
   ],
   "source": [
    "url = \"https://pakairquality.now.sh/facebook\"\n",
    "params = {\"sdf\":\"sfs\"}\n",
    "r = requests.get(url)\n",
    "\n",
    "print(r.text)"
   ]
  },
  {
   "cell_type": "code",
   "execution_count": 93,
   "metadata": {},
   "outputs": [
    {
     "data": {
      "text/plain": [
       "{'object': 'page',\n",
       " 'entry': [{'id': '2070561266338835',\n",
       "   'time': 1542758865148,\n",
       "   'messaging': [{'sender': {'id': '1936895579729846'},\n",
       "     'recipient': {'id': '2070561266338835'},\n",
       "     'timestamp': 1542758865133,\n",
       "     'delivery': {'mids': ['6e1IajoitEEd_xMjVx-sIxrD2VW8gQ6FhxB8JOpX2wsPNm6SpN32E11CKMLOA8F5mzzinbRJcx0r5cYxySmTXA'],\n",
       "      'watermark': 1542758864558,\n",
       "      'seq': 0}}]}]}"
      ]
     },
     "execution_count": 93,
     "metadata": {},
     "output_type": "execute_result"
    }
   ],
   "source": [
    "data = {'object': 'page', 'entry': [{'id': '2070561266338835', 'time': 1542758865148, 'messaging': [{'sender': {'id': '1936895579729846'}, 'recipient': {'id': '2070561266338835'}, 'timestamp': 1542758865133, 'delivery': {'mids': ['6e1IajoitEEd_xMjVx-sIxrD2VW8gQ6FhxB8JOpX2wsPNm6SpN32E11CKMLOA8F5mzzinbRJcx0r5cYxySmTXA'], 'watermark': 1542758864558, 'seq': 0}}]}]}\n",
    "data"
   ]
  },
  {
   "cell_type": "code",
   "execution_count": 94,
   "metadata": {},
   "outputs": [
    {
     "data": {
      "text/plain": [
       "{'sender': {'id': '1936895579729846'},\n",
       " 'recipient': {'id': '2070561266338835'},\n",
       " 'timestamp': 1542758865133,\n",
       " 'delivery': {'mids': ['6e1IajoitEEd_xMjVx-sIxrD2VW8gQ6FhxB8JOpX2wsPNm6SpN32E11CKMLOA8F5mzzinbRJcx0r5cYxySmTXA'],\n",
       "  'watermark': 1542758864558,\n",
       "  'seq': 0}}"
      ]
     },
     "execution_count": 94,
     "metadata": {},
     "output_type": "execute_result"
    }
   ],
   "source": [
    "data[\"entry\"][0]['messaging'][0]"
   ]
  },
  {
   "cell_type": "code",
   "execution_count": 95,
   "metadata": {},
   "outputs": [
    {
     "data": {
      "text/plain": [
       "{'object': 'page',\n",
       " 'entry': [{'id': '2070561266338835',\n",
       "   'time': 1542758857654,\n",
       "   'messaging': [{'sender': {'id': '1936895579729846'},\n",
       "     'recipient': {'id': '2070561266338835'},\n",
       "     'timestamp': 1542758812067,\n",
       "     'message': {'mid': 'HLUe8Z_p9akJcpafX3Od4xrD2VW8gQ6FhxB8JOpX2wvi88ewESzcepc0QD94evwZH1ymLD51mQyl8AYRyhtgSQ',\n",
       "      'seq': 32854,\n",
       "      'text': 'whats the air quality in karachi',\n",
       "      'nlp': {'entities': {'location': [{'confidence': 0.93418,\n",
       "          'value': 'karachi',\n",
       "          'resolved': {'values': [{'name': 'Karachi',\n",
       "             'grain': 'locality',\n",
       "             'type': 'resolved',\n",
       "             'timezone': 'Asia/Karachi',\n",
       "             'coords': {'lat': 24.860799789429, 'long': 67.010398864746},\n",
       "             'external': {'geonames': '1174872',\n",
       "              'wikidata': 'Q8660',\n",
       "              'wikipedia': 'Karachi'}}]}}],\n",
       "        'sentiment': [{'confidence': 0.78663026823209,\n",
       "          'value': 'neutral'}]}}}}]}]}"
      ]
     },
     "execution_count": 95,
     "metadata": {},
     "output_type": "execute_result"
    }
   ],
   "source": [
    "data2={'object': 'page', 'entry': [{'id': '2070561266338835', 'time': 1542758857654, 'messaging': [{'sender': {'id': '1936895579729846'}, 'recipient': {'id': '2070561266338835'}, 'timestamp': 1542758812067, 'message': {'mid': 'HLUe8Z_p9akJcpafX3Od4xrD2VW8gQ6FhxB8JOpX2wvi88ewESzcepc0QD94evwZH1ymLD51mQyl8AYRyhtgSQ', 'seq': 32854, 'text': 'whats the air quality in karachi', 'nlp': {'entities': {'location': [{'confidence': 0.93418, 'value': 'karachi', 'resolved': {'values': [{'name': 'Karachi', 'grain': 'locality', 'type': 'resolved', 'timezone': 'Asia/Karachi', 'coords': {'lat': 24.860799789429, 'long': 67.010398864746}, 'external': {'geonames': '1174872', 'wikidata': 'Q8660', 'wikipedia': 'Karachi'}}]}}], 'sentiment': [{'confidence': 0.78663026823209, 'value': 'neutral'}]}}}}]}]}\n",
    "data2"
   ]
  },
  {
   "cell_type": "code",
   "execution_count": 96,
   "metadata": {},
   "outputs": [
    {
     "data": {
      "text/plain": [
       "{'sender': {'id': '1936895579729846'},\n",
       " 'recipient': {'id': '2070561266338835'},\n",
       " 'timestamp': 1542758812067,\n",
       " 'message': {'mid': 'HLUe8Z_p9akJcpafX3Od4xrD2VW8gQ6FhxB8JOpX2wvi88ewESzcepc0QD94evwZH1ymLD51mQyl8AYRyhtgSQ',\n",
       "  'seq': 32854,\n",
       "  'text': 'whats the air quality in karachi',\n",
       "  'nlp': {'entities': {'location': [{'confidence': 0.93418,\n",
       "      'value': 'karachi',\n",
       "      'resolved': {'values': [{'name': 'Karachi',\n",
       "         'grain': 'locality',\n",
       "         'type': 'resolved',\n",
       "         'timezone': 'Asia/Karachi',\n",
       "         'coords': {'lat': 24.860799789429, 'long': 67.010398864746},\n",
       "         'external': {'geonames': '1174872',\n",
       "          'wikidata': 'Q8660',\n",
       "          'wikipedia': 'Karachi'}}]}}],\n",
       "    'sentiment': [{'confidence': 0.78663026823209, 'value': 'neutral'}]}}}}"
      ]
     },
     "execution_count": 96,
     "metadata": {},
     "output_type": "execute_result"
    }
   ],
   "source": [
    "data2['entry'][0]['messaging'][0]"
   ]
  },
  {
   "cell_type": "code",
   "execution_count": 57,
   "metadata": {},
   "outputs": [
    {
     "data": {
      "text/plain": [
       "'1936895579729846'"
      ]
     },
     "execution_count": 57,
     "metadata": {},
     "output_type": "execute_result"
    }
   ],
   "source": [
    "sender_id = data2['entry'][0]['messaging'][0]['sender']['id']\n",
    "sender_id"
   ]
  },
  {
   "cell_type": "code",
   "execution_count": 73,
   "metadata": {},
   "outputs": [
    {
     "data": {
      "text/plain": [
       "{'mid': 'HLUe8Z_p9akJcpafX3Od4xrD2VW8gQ6FhxB8JOpX2wvi88ewESzcepc0QD94evwZH1ymLD51mQyl8AYRyhtgSQ',\n",
       " 'seq': 32854,\n",
       " 'text': 'whats the air quality in karachi',\n",
       " 'nlp': {'entities': {'location': [{'confidence': 0.93418,\n",
       "     'value': 'karachi',\n",
       "     'resolved': {'values': [{'name': 'Karachi',\n",
       "        'grain': 'locality',\n",
       "        'type': 'resolved',\n",
       "        'timezone': 'Asia/Karachi',\n",
       "        'coords': {'lat': 24.860799789429, 'long': 67.010398864746},\n",
       "        'external': {'geonames': '1174872',\n",
       "         'wikidata': 'Q8660',\n",
       "         'wikipedia': 'Karachi'}}]}}],\n",
       "   'sentiment': [{'confidence': 0.78663026823209, 'value': 'neutral'}]}}}"
      ]
     },
     "execution_count": 73,
     "metadata": {},
     "output_type": "execute_result"
    }
   ],
   "source": [
    "msg = data2['entry'][0]['messaging'][0]['message']\n",
    "msg"
   ]
  },
  {
   "cell_type": "code",
   "execution_count": 86,
   "metadata": {},
   "outputs": [
    {
     "data": {
      "text/plain": [
       "dict_keys(['confidence', 'value', 'resolved'])"
      ]
     },
     "execution_count": 86,
     "metadata": {},
     "output_type": "execute_result"
    }
   ],
   "source": [
    "msg['nlp']['entities']['location'][0].keys()"
   ]
  },
  {
   "cell_type": "code",
   "execution_count": 72,
   "metadata": {},
   "outputs": [
    {
     "data": {
      "text/plain": [
       "'2070561266338835'"
      ]
     },
     "execution_count": 72,
     "metadata": {},
     "output_type": "execute_result"
    }
   ],
   "source": [
    "msg = data2['entry'][0]['messaging'][0]['recipient']['id']\n",
    "msg"
   ]
  },
  {
   "cell_type": "code",
   "execution_count": 90,
   "metadata": {},
   "outputs": [
    {
     "data": {
      "text/plain": [
       "dict_keys(['mid', 'seq', 'text', 'nlp'])"
      ]
     },
     "execution_count": 90,
     "metadata": {},
     "output_type": "execute_result"
    }
   ],
   "source": [
    "msg.keys()"
   ]
  },
  {
   "cell_type": "code",
   "execution_count": 97,
   "metadata": {},
   "outputs": [
    {
     "data": {
      "text/plain": [
       "{'object': 'page',\n",
       " 'entry': [{'id': '2070561266338835',\n",
       "   'time': 1542760284016,\n",
       "   'messaging': [{'sender': {'id': '1936895579729846'},\n",
       "     'recipient': {'id': '2070561266338835'},\n",
       "     'timestamp': 1542760284001,\n",
       "     'delivery': {'mids': ['9fPHP6_lfUxlSNyu0QH16xrD2VW8gQ6FhxB8JOpX2wtDL9EJTvyRQN77lO_hieF2OEBh2PSklnLkWL9kkE7k5w'],\n",
       "      'watermark': 1542760283419,\n",
       "      'seq': 0}}]}]}"
      ]
     },
     "execution_count": 97,
     "metadata": {},
     "output_type": "execute_result"
    }
   ],
   "source": [
    "d = {'object': 'page', 'entry': [{'id': '2070561266338835', 'time': 1542760284016, 'messaging': [{'sender': {'id': '1936895579729846'}, 'recipient': {'id': '2070561266338835'}, 'timestamp': 1542760284001, 'delivery': {'mids': ['9fPHP6_lfUxlSNyu0QH16xrD2VW8gQ6FhxB8JOpX2wtDL9EJTvyRQN77lO_hieF2OEBh2PSklnLkWL9kkE7k5w'], 'watermark': 1542760283419, 'seq': 0}}]}]}\n",
    "d"
   ]
  },
  {
   "cell_type": "code",
   "execution_count": 117,
   "metadata": {},
   "outputs": [
    {
     "name": "stdout",
     "output_type": "stream",
     "text": [
      "ss\n"
     ]
    }
   ],
   "source": [
    "if \"message\" not in d['entry'][0]['messaging'][0].keys():\n",
    "    print(\"ss\")"
   ]
  },
  {
   "cell_type": "code",
   "execution_count": 116,
   "metadata": {},
   "outputs": [
    {
     "data": {
      "text/plain": [
       "dict_keys(['sender', 'recipient', 'timestamp', 'message'])"
      ]
     },
     "execution_count": 116,
     "metadata": {},
     "output_type": "execute_result"
    }
   ],
   "source": [
    "data2['entry'][0]['messaging'][0].keys()"
   ]
  },
  {
   "cell_type": "code",
   "execution_count": 118,
   "metadata": {},
   "outputs": [
    {
     "data": {
      "text/plain": [
       "'1936895579729846'"
      ]
     },
     "execution_count": 118,
     "metadata": {},
     "output_type": "execute_result"
    }
   ],
   "source": [
    "d['entry'][0]['messaging'][0]['sender']['id']     "
   ]
  },
  {
   "cell_type": "code",
   "execution_count": 119,
   "metadata": {},
   "outputs": [
    {
     "data": {
      "text/plain": [
       "'2070561266338835'"
      ]
     },
     "execution_count": 119,
     "metadata": {},
     "output_type": "execute_result"
    }
   ],
   "source": [
    "d['entry'][0]['messaging'][0]['recipient']['id']\n"
   ]
  },
  {
   "cell_type": "code",
   "execution_count": null,
   "metadata": {},
   "outputs": [],
   "source": []
  }
 ],
 "metadata": {
  "kernelspec": {
   "display_name": "Python [default]",
   "language": "python",
   "name": "python3"
  },
  "language_info": {
   "codemirror_mode": {
    "name": "ipython",
    "version": 3
   },
   "file_extension": ".py",
   "mimetype": "text/x-python",
   "name": "python",
   "nbconvert_exporter": "python",
   "pygments_lexer": "ipython3",
   "version": "3.7.0"
  }
 },
 "nbformat": 4,
 "nbformat_minor": 2
}
